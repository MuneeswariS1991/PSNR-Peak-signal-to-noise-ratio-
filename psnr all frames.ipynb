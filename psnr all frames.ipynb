{
 "cells": [
  {
   "cell_type": "code",
   "execution_count": null,
   "metadata": {},
   "outputs": [
    {
     "name": "stdout",
     "output_type": "stream",
     "text": [
      "C:\\Users\\admin\\Downloads\\v1\\v1\\v1a frames\\frame0.jpg\n",
      "1.0\n",
      "C:\\Users\\admin\\Downloads\\v1\\v1\\v1a frames\\frame1.jpg\n",
      "1.0\n",
      "C:\\Users\\admin\\Downloads\\v1\\v1\\v1a frames\\frame10.jpg\n",
      "1.0\n",
      "C:\\Users\\admin\\Downloads\\v1\\v1\\v1a frames\\frame11.jpg\n",
      "1.0\n",
      "C:\\Users\\admin\\Downloads\\v1\\v1\\v1a frames\\frame12.jpg\n",
      "1.0\n",
      "C:\\Users\\admin\\Downloads\\v1\\v1\\v1a frames\\frame13.jpg\n",
      "1.0\n",
      "C:\\Users\\admin\\Downloads\\v1\\v1\\v1a frames\\frame14.jpg\n",
      "1.0\n",
      "C:\\Users\\admin\\Downloads\\v1\\v1\\v1a frames\\frame15.jpg\n",
      "1.0\n",
      "C:\\Users\\admin\\Downloads\\v1\\v1\\v1a frames\\frame16.jpg\n",
      "1.0\n",
      "C:\\Users\\admin\\Downloads\\v1\\v1\\v1a frames\\frame17.jpg\n",
      "1.0\n",
      "C:\\Users\\admin\\Downloads\\v1\\v1\\v1a frames\\frame18.jpg\n",
      "1.0\n",
      "C:\\Users\\admin\\Downloads\\v1\\v1\\v1a frames\\frame19.jpg\n",
      "1.0\n",
      "C:\\Users\\admin\\Downloads\\v1\\v1\\v1a frames\\frame2.jpg\n",
      "1.0\n",
      "C:\\Users\\admin\\Downloads\\v1\\v1\\v1a frames\\frame20.jpg\n",
      "1.0\n",
      "C:\\Users\\admin\\Downloads\\v1\\v1\\v1a frames\\frame21.jpg\n"
     ]
    }
   ],
   "source": [
    "import cv2\n",
    "import glob\n",
    "import numpy as np\n",
    "from SSIM_PIL import compare_ssim\n",
    "from PIL import Image\n",
    "\n",
    "X_data = []\n",
    "files = glob.glob (r\"C:\\Users\\admin\\Downloads\\v1\\v1\\v1a frames\\*.jpg\")\n",
    "for myFile in files:\n",
    "    print(myFile)\n",
    "    image1 = Image.open (myFile)\n",
    "    image2=Image.open(myFile)\n",
    "    value = compare_ssim(image1, image2)\n",
    "    print(value)\n"
   ]
  },
  {
   "cell_type": "code",
   "execution_count": null,
   "metadata": {},
   "outputs": [],
   "source": []
  }
 ],
 "metadata": {
  "kernelspec": {
   "display_name": "Python 3",
   "language": "python",
   "name": "python3"
  },
  "language_info": {
   "codemirror_mode": {
    "name": "ipython",
    "version": 3
   },
   "file_extension": ".py",
   "mimetype": "text/x-python",
   "name": "python",
   "nbconvert_exporter": "python",
   "pygments_lexer": "ipython3",
   "version": "3.7.6"
  }
 },
 "nbformat": 4,
 "nbformat_minor": 4
}
